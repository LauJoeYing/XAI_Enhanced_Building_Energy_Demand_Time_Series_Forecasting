{
 "cells": [
  {
   "cell_type": "code",
   "execution_count": 11,
   "metadata": {},
   "outputs": [],
   "source": [
    "\n",
    "import pandas as pd\n",
    "\n",
    "# File path of the original CSV\n",
    "file_path = 'D:/Downloads/final-year-project/data/preprocessed_train_data.csv'\n",
    "\n",
    "# Load the data\n",
    "df = pd.read_csv(file_path)\n",
    "\n",
    "# # Load the first 100,000 rows\n",
    "# df = pd.read_csv(file_path, nrows=55000)\n",
    "\n",
    "# # Save to a new CSV file\n",
    "# new_file_path = 'D:/Downloads/final-year-project/data/first_55000_rows.csv'\n",
    "# df.to_csv(new_file_path, index=False)\n",
    "\n",
    "# print(f\"First 100,000 rows have been saved to {new_file_path}\")\n"
   ]
  },
  {
   "cell_type": "code",
   "execution_count": 13,
   "metadata": {},
   "outputs": [
    {
     "name": "stdout",
     "output_type": "stream",
     "text": [
      "Total number of rows before dropping null values: 4316604\n",
      "Total number of rows after dropping null values: 4316604\n",
      "Total number of rows after dropping rows with zero values: 2237875\n"
     ]
    }
   ],
   "source": [
    "\n",
    "# Print total number of rows before dropping null values\n",
    "total_rows_before = df.shape[0]\n",
    "print(f\"Total number of rows before dropping null values: {total_rows_before}\")\n",
    "\n",
    "# Remove rows with any null values\n",
    "df = df.dropna()\n",
    "\n",
    "# Print total number of rows after dropping null values\n",
    "total_rows_after = df.shape[0]\n",
    "print(f\"Total number of rows after dropping null values: {total_rows_after}\")\n",
    "\n",
    "# Remove rows with more than 3 zero values\n",
    "df = df[df.isin([0]).sum(axis=1) < 3]\n",
    "\n",
    "# Print total number of rows after dropping rows with zero values\n",
    "total_rows_after_dropping_zeros = df.shape[0]\n",
    "print(f\"Total number of rows after dropping rows with zero values: {total_rows_after_dropping_zeros}\")\n"
   ]
  },
  {
   "cell_type": "code",
   "execution_count": 19,
   "metadata": {},
   "outputs": [
    {
     "name": "stderr",
     "output_type": "stream",
     "text": [
      "C:\\Users\\joeyi\\AppData\\Local\\Temp\\ipykernel_25048\\149407344.py:21: FutureWarning: The frame.append method is deprecated and will be removed from pandas in a future version. Use pandas.concat instead.\n",
      "  final_df = final_df.append(temp_df)\n",
      "C:\\Users\\joeyi\\AppData\\Local\\Temp\\ipykernel_25048\\149407344.py:21: FutureWarning: The frame.append method is deprecated and will be removed from pandas in a future version. Use pandas.concat instead.\n",
      "  final_df = final_df.append(temp_df)\n",
      "C:\\Users\\joeyi\\AppData\\Local\\Temp\\ipykernel_25048\\149407344.py:21: FutureWarning: The frame.append method is deprecated and will be removed from pandas in a future version. Use pandas.concat instead.\n",
      "  final_df = final_df.append(temp_df)\n",
      "C:\\Users\\joeyi\\AppData\\Local\\Temp\\ipykernel_25048\\149407344.py:21: FutureWarning: The frame.append method is deprecated and will be removed from pandas in a future version. Use pandas.concat instead.\n",
      "  final_df = final_df.append(temp_df)\n",
      "C:\\Users\\joeyi\\AppData\\Local\\Temp\\ipykernel_25048\\149407344.py:21: FutureWarning: The frame.append method is deprecated and will be removed from pandas in a future version. Use pandas.concat instead.\n",
      "  final_df = final_df.append(temp_df)\n",
      "C:\\Users\\joeyi\\AppData\\Local\\Temp\\ipykernel_25048\\149407344.py:21: FutureWarning: The frame.append method is deprecated and will be removed from pandas in a future version. Use pandas.concat instead.\n",
      "  final_df = final_df.append(temp_df)\n",
      "C:\\Users\\joeyi\\AppData\\Local\\Temp\\ipykernel_25048\\149407344.py:21: FutureWarning: The frame.append method is deprecated and will be removed from pandas in a future version. Use pandas.concat instead.\n",
      "  final_df = final_df.append(temp_df)\n",
      "C:\\Users\\joeyi\\AppData\\Local\\Temp\\ipykernel_25048\\149407344.py:21: FutureWarning: The frame.append method is deprecated and will be removed from pandas in a future version. Use pandas.concat instead.\n",
      "  final_df = final_df.append(temp_df)\n",
      "C:\\Users\\joeyi\\AppData\\Local\\Temp\\ipykernel_25048\\149407344.py:21: FutureWarning: The frame.append method is deprecated and will be removed from pandas in a future version. Use pandas.concat instead.\n",
      "  final_df = final_df.append(temp_df)\n",
      "C:\\Users\\joeyi\\AppData\\Local\\Temp\\ipykernel_25048\\149407344.py:21: FutureWarning: The frame.append method is deprecated and will be removed from pandas in a future version. Use pandas.concat instead.\n",
      "  final_df = final_df.append(temp_df)\n",
      "C:\\Users\\joeyi\\AppData\\Local\\Temp\\ipykernel_25048\\149407344.py:21: FutureWarning: The frame.append method is deprecated and will be removed from pandas in a future version. Use pandas.concat instead.\n",
      "  final_df = final_df.append(temp_df)\n",
      "C:\\Users\\joeyi\\AppData\\Local\\Temp\\ipykernel_25048\\149407344.py:21: FutureWarning: The frame.append method is deprecated and will be removed from pandas in a future version. Use pandas.concat instead.\n",
      "  final_df = final_df.append(temp_df)\n",
      "C:\\Users\\joeyi\\AppData\\Local\\Temp\\ipykernel_25048\\149407344.py:27: FutureWarning: The frame.append method is deprecated and will be removed from pandas in a future version. Use pandas.concat instead.\n",
      "  final_df = final_df.append(additional_rows)\n"
     ]
    },
    {
     "name": "stdout",
     "output_type": "stream",
     "text": [
      "Total number of rows in the final DataFrame: 55000\n"
     ]
    }
   ],
   "source": [
    "# Initialize an empty DataFrame to store the final subset of records\n",
    "final_df = pd.DataFrame()\n",
    "\n",
    "# Get the distinct combinations of year and month\n",
    "year_month_combinations = df[['month']].drop_duplicates()\n",
    "\n",
    "# Calculate the target number of records for each combination\n",
    "target_per_combination = 55000 // len(year_month_combinations)\n",
    "\n",
    "for _, row in year_month_combinations.iterrows():\n",
    "    month = row['month']\n",
    "    \n",
    "    # Filter records for the current year and month\n",
    "    temp_df = df[(df['month'] == month)]\n",
    "    \n",
    "    # If the current year-month combination has more records than needed, sample the records\n",
    "    if len(temp_df) > target_per_combination:\n",
    "        temp_df = temp_df.sample(n=target_per_combination, random_state=2021)\n",
    "    \n",
    "    # Append the records to the final DataFrame\n",
    "    final_df = final_df.append(temp_df)\n",
    "\n",
    "# If the total number of rows in the final_df is less than 55000, sample additional rows\n",
    "if len(final_df) < 55000:\n",
    "    additional_rows_needed = 55000 - len(final_df)\n",
    "    additional_rows = df.sample(n=additional_rows_needed, random_state=2021)\n",
    "    final_df = final_df.append(additional_rows)\n",
    "\n",
    "# Print the final number of rows in the final DataFrame\n",
    "final_row_count = final_df.shape[0]\n",
    "print(f\"Total number of rows in the final DataFrame: {final_row_count}\")\n",
    "\n",
    "# Save the final subset of records to a new CSV file\n",
    "output_file_path = 'D:/Downloads/final-year-project/data/final_subset_train_data.csv'\n",
    "final_df.to_csv(output_file_path, index=False)"
   ]
  }
 ],
 "metadata": {
  "kernelspec": {
   "display_name": "Python 3",
   "language": "python",
   "name": "python3"
  },
  "language_info": {
   "codemirror_mode": {
    "name": "ipython",
    "version": 3
   },
   "file_extension": ".py",
   "mimetype": "text/x-python",
   "name": "python",
   "nbconvert_exporter": "python",
   "pygments_lexer": "ipython3",
   "version": "3.11.3"
  },
  "orig_nbformat": 4
 },
 "nbformat": 4,
 "nbformat_minor": 2
}
